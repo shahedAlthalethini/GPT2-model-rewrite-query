{
  "nbformat": 4,
  "nbformat_minor": 0,
  "metadata": {
    "colab": {
      "provenance": []
    },
    "kernelspec": {
      "name": "python3",
      "display_name": "Python 3"
    },
    "language_info": {
      "name": "python"
    }
  },
  "cells": [
    {
      "cell_type": "markdown",
      "source": [
        "*Using a pre-trained language model (such as those available via the transformers library from HuggingFace or the GPT API).*\n",
        "\n",
        "**write a code snippet that into a clear, context-resolved query by leveraging the context of 2–3 previous conversational turns.**\n",
        "\n",
        "\n",
        "Your output should include:\n",
        "The three conversational queries (including the ambiguous one).\n",
        "The code you used to perform the rewriting.\n",
        "The final, rewritten query with the ambiguity resolved."
      ],
      "metadata": {
        "id": "c23NWJ6nYDeY"
      }
    },
    {
      "cell_type": "code",
      "source": [
        "from transformers import GPT2Tokenizer, GPT2LMHeadModel\n",
        "\n",
        "\n",
        "model_name = \"gpt2\"\n",
        "tokenizer = GPT2Tokenizer.from_pretrained(model_name)\n",
        "model = GPT2LMHeadModel.from_pretrained(model_name)\n",
        "\n",
        "\n",
        "history = \"\"\"\n",
        "User: France's capital?\n",
        "Assistant: Paris.\n",
        "User: Things to see there?\n",
        "Assistant: Eiffel Tower,Louvre,Paris Hilton.\n",
        "User: What about it?\n",
        "\"\"\"\n",
        "\n",
        "\n",
        "prompt = f\"\"\"\n",
        "{history}\n",
        "Rewrite the last ambiguous question by incorporating context from the conversation.\n",
        "Clear question:\"\"\"\n",
        "\n",
        "# Tokenize and generate\n",
        "inputs = tokenizer(prompt, return_tensors=\"pt\")\n",
        "outputs = model.generate(\n",
        "    inputs.input_ids,\n",
        "    max_length=100,\n",
        "    num_return_sequences=1,\n",
        "    no_repeat_ngram_size=2,\n",
        "    do_sample=False\n",
        ")\n",
        "\n",
        "# Decode and extract the rewritten query\n",
        "rewritten_query = tokenizer.decode(outputs[0], skip_special_tokens=True)\n",
        "rewritten_query = rewritten_query.split(\"Clear question:\")[-1].strip()\n",
        "\n",
        "print(f\"Original ambiguous query: What about it?\")\n",
        "print(f\"Rewritten query: {rewritten_query}\")"
      ],
      "metadata": {
        "colab": {
          "base_uri": "https://localhost:8080/"
        },
        "id": "TVuTLKzpbTNL",
        "outputId": "a716372c-782b-4f27-a493-646665b910b4"
      },
      "execution_count": 31,
      "outputs": [
        {
          "output_type": "stream",
          "name": "stderr",
          "text": [
            "The attention mask and the pad token id were not set. As a consequence, you may observe unexpected behavior. Please pass your input's `attention_mask` to obtain reliable results.\n",
            "Setting `pad_token_id` to `eos_token_id`:50256 for open-end generation.\n"
          ]
        },
        {
          "output_type": "stream",
          "name": "stdout",
          "text": [
            "Original ambiguous query: What about it?\n",
            "Rewritten query: \"What about the Paris Hilton?\"\n",
            "The answer is:\n",
            "\"Paris.\"\n",
            "This is the first time we've seen the Hilton in person. It's a very different Hilton from what we\n"
          ]
        }
      ]
    }
  ]
}